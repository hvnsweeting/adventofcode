{
 "cells": [
  {
   "cell_type": "code",
   "execution_count": 1,
   "id": "0d543f34",
   "metadata": {},
   "outputs": [],
   "source": [
    "s = \"\"\"[[1,2],[[3,4],5]]\"\"\""
   ]
  },
  {
   "cell_type": "code",
   "execution_count": 2,
   "id": "4732a774",
   "metadata": {},
   "outputs": [],
   "source": [
    "l = eval(s)"
   ]
  },
  {
   "cell_type": "code",
   "execution_count": 3,
   "id": "2c8a0a2d",
   "metadata": {},
   "outputs": [
    {
     "data": {
      "text/plain": [
       "[[1, 2], [[3, 4], 5]]"
      ]
     },
     "execution_count": 3,
     "metadata": {},
     "output_type": "execute_result"
    }
   ],
   "source": [
    "l"
   ]
  },
  {
   "cell_type": "code",
   "execution_count": 5,
   "id": "8bde7980",
   "metadata": {},
   "outputs": [],
   "source": [
    "def manitude(tree):\n",
    "    if isinstance(tree, int): \n",
    "        return tree\n",
    "    left, right = tree\n",
    "    return 3 * manitude(left) + 2 * manitude(right)"
   ]
  },
  {
   "cell_type": "code",
   "execution_count": 6,
   "id": "38db69a7",
   "metadata": {},
   "outputs": [
    {
     "data": {
      "text/plain": [
       "143"
      ]
     },
     "execution_count": 6,
     "metadata": {},
     "output_type": "execute_result"
    }
   ],
   "source": [
    "manitude(l)"
   ]
  },
  {
   "cell_type": "code",
   "execution_count": null,
   "id": "224ee2f2",
   "metadata": {},
   "outputs": [],
   "source": []
  },
  {
   "cell_type": "code",
   "execution_count": 231,
   "id": "bbb394ea",
   "metadata": {},
   "outputs": [],
   "source": [
    "add_to_next = None\n",
    "is_first_pair = True\n",
    "\n",
    "def explode(tree, parent, numbers=None, level=0, is_right=None):\n",
    "    if numbers is None:\n",
    "        numbers = []\n",
    "    #print(level, tree)\n",
    "    global is_first_pair\n",
    "    global add_to_next\n",
    "    if isinstance(tree, int):\n",
    "        if add_to_next:\n",
    "            _, right = add_to_next\n",
    "            parent[is_right] += right\n",
    "            add_to_next = False\n",
    "        numbers.append((is_right, parent))\n",
    "        return\n",
    "    left, right = tree\n",
    "    if level == 4 and is_first_pair and isinstance(left, int) and isinstance(right, int):\n",
    "        #print(\"Setting\", tree, \"to 0\", is_first_pair)\n",
    "\n",
    "        parent[is_right] = 0\n",
    "        #tree = 0\n",
    "        is_first_pair = False\n",
    "\n",
    "        if numbers:\n",
    "            idx, ref = numbers[-1]\n",
    "            ref[idx] += left\n",
    "            #last_number_ref = numbers[-1], left\n",
    "            #print(\"NUMBERS\",last_number_ref)\n",
    "\n",
    "        if add_to_next is None:\n",
    "            add_to_next = True, right\n",
    "        return\n",
    "    explode(left, tree, numbers, level=level+1, is_right=False)\n",
    "    explode(right, tree, numbers, level=level+1, is_right=True)\n",
    "    "
   ]
  },
  {
   "cell_type": "code",
   "execution_count": 182,
   "id": "4e310b81",
   "metadata": {
    "scrolled": false
   },
   "outputs": [
    {
     "name": "stdout",
     "output_type": "stream",
     "text": [
      "[[22, 13], [26, 0], [28, [13, 0]], [[[6, [0, 7]], [0, 9]], [4, [9, [9, 0]]]], [[[7, [6, 4]], [3, [1, 3]]], [[[5, 5], 1], 9]], [[6, [[7, 3], [3, 2]]], [[[3, 8], [5, 7]], 4]], [[[[5, 4], [7, 7]], 8], [[8, 3], 8]], [[9, 3], [[9, 9], [6, [4, 9]]]], [[2, [[7, 7], 7]], [[5, 8], [[9, 3], [0, 2]]]], [[[[5, 2], 5], [8, [3, 7]]], [[5, [7, 5]], [4, 4]]]] None\n"
     ]
    },
    {
     "data": {
      "text/plain": [
       "[[3, [2, [8, 0]]], [9, [5, [4, [3, 2]]]]]"
      ]
     },
     "execution_count": 182,
     "metadata": {},
     "output_type": "execute_result"
    }
   ],
   "source": [
    "exp = [[3,[2,[1,[7,3]]]],[6,[5,[4,[3,2]]]]]\n",
    "explode(exp, None)\n",
    "print(numbers, None)\n",
    "exp"
   ]
  },
  {
   "cell_type": "code",
   "execution_count": 183,
   "id": "f2b93cc1",
   "metadata": {},
   "outputs": [
    {
     "data": {
      "text/plain": [
       "True"
      ]
     },
     "execution_count": 183,
     "metadata": {},
     "output_type": "execute_result"
    }
   ],
   "source": [
    "exp == [[3,[2,[8,0]]],[9,[5,[4,[3,2]]]]]"
   ]
  },
  {
   "cell_type": "code",
   "execution_count": 125,
   "id": "3ec0719a",
   "metadata": {},
   "outputs": [],
   "source": [
    "first_number = True\n",
    "def split(tree, parent, is_right=None):\n",
    "    global first_number\n",
    "    if isinstance(tree, int):\n",
    "        if tree >= 10 and first_number:\n",
    "            if tree % 2 == 0:\n",
    "                new_pair = [tree//2, tree//2]\n",
    "            else:\n",
    "                new_pair = [tree//2, tree//2+1] \n",
    "            parent[is_right] = new_pair\n",
    "            first_number = False\n",
    "        return\n",
    "    left, right = tree\n",
    "    split(left, tree, is_right=False)\n",
    "    split(right, tree, is_right=True)\n",
    "    \n",
    "            "
   ]
  },
  {
   "cell_type": "code",
   "execution_count": 128,
   "id": "6db06819",
   "metadata": {},
   "outputs": [
    {
     "data": {
      "text/plain": [
       "True"
      ]
     },
     "execution_count": 128,
     "metadata": {},
     "output_type": "execute_result"
    }
   ],
   "source": [
    "first_number = True\n",
    "x = [[[[0,7],4],[15,[0,13]]],[1,1]]\n",
    "split(x, None)\n",
    "x ==  [[[[0,7],4],[[7,8],[0,13]]],[1,1]]"
   ]
  },
  {
   "cell_type": "code",
   "execution_count": null,
   "id": "0407a880",
   "metadata": {},
   "outputs": [],
   "source": []
  },
  {
   "cell_type": "code",
   "execution_count": 206,
   "id": "3cef5d73",
   "metadata": {},
   "outputs": [],
   "source": [
    "text= \"\"\"[[[0,[5,8]],[[1,7],[9,6]]],[[4,[1,2]],[[1,4],2]]]\n",
    "[[[5,[2,8]],4],[5,[[9,9],0]]]\n",
    "[6,[[[6,2],[5,6]],[[7,6],[4,7]]]]\n",
    "[[[6,[0,7]],[0,9]],[4,[9,[9,0]]]]\n",
    "[[[7,[6,4]],[3,[1,3]]],[[[5,5],1],9]]\n",
    "[[6,[[7,3],[3,2]]],[[[3,8],[5,7]],4]]\n",
    "[[[[5,4],[7,7]],8],[[8,3],8]]\n",
    "[[9,3],[[9,9],[6,[4,9]]]]\n",
    "[[2,[[7,7],7]],[[5,8],[[9,3],[0,2]]]]\n",
    "[[[[5,2],5],[8,[3,7]]],[[5,[7,5]],[4,4]]]\"\"\""
   ]
  },
  {
   "cell_type": "code",
   "execution_count": 210,
   "id": "82a04322",
   "metadata": {},
   "outputs": [],
   "source": [
    "text = open(\"/home/hvn/me/adventofcode/2021/src/input18\").read()\n",
    "\n",
    "numbers = [eval(i) for i in text.splitlines()]\n",
    "\n",
    "\n",
    "#numbers = [[[[[4,3],4],4],[7,[[8,4],9]]],[1,1]]\n",
    "lists = numbers[0]\n",
    "\n",
    "import copy\n",
    "for number in numbers[1:]:\n",
    "    lists = [lists, number]\n",
    "    print(\"---\", lists)\n",
    "    prev = copy.deepcopy(lists)\n",
    "    c = 0\n",
    "    while True:\n",
    "        print(lists)\n",
    "        changed = False\n",
    "\n",
    "        c = c + 1\n",
    "    \n",
    "        add_to_next = None\n",
    "        is_first_pair = True\n",
    "        prev = copy.deepcopy(lists)\n",
    "\n",
    "        explode(lists, None)\n",
    "        if prev != lists:\n",
    "            print(\"explored\")\n",
    "            changed = True\n",
    "            continue\n",
    "\n",
    "        prev = copy.deepcopy(lists)\n",
    "\n",
    "        first_number = True\n",
    "        split(lists, None)\n",
    "        if prev != lists:\n",
    "            changed = True\n",
    "            print(\"splited\")\n",
    "\n",
    "            continue\n",
    "\n",
    "        if changed is False:\n",
    "            break\n",
    "\n",
    "    \n",
    "print(\"Result\", lists)"
   ]
  },
  {
   "cell_type": "code",
   "execution_count": 212,
   "id": "1398411d",
   "metadata": {},
   "outputs": [
    {
     "data": {
      "text/plain": [
       "3359"
      ]
     },
     "execution_count": 212,
     "metadata": {},
     "output_type": "execute_result"
    }
   ],
   "source": [
    "manitude(lists)"
   ]
  },
  {
   "cell_type": "markdown",
   "id": "319ac3b4",
   "metadata": {},
   "source": [
    "## part 2"
   ]
  },
  {
   "cell_type": "code",
   "execution_count": 241,
   "id": "f64fe2c7",
   "metadata": {
    "scrolled": true
   },
   "outputs": [
    {
     "name": "stdout",
     "output_type": "stream",
     "text": [
      "Result 4616\n"
     ]
    }
   ],
   "source": [
    "text = \"\"\"[[[0,[5,8]],[[1,7],[9,6]]],[[4,[1,2]],[[1,4],2]]]\n",
    "[[[5,[2,8]],4],[5,[[9,9],0]]]\n",
    "[6,[[[6,2],[5,6]],[[7,6],[4,7]]]]\n",
    "[[[6,[0,7]],[0,9]],[4,[9,[9,0]]]]\n",
    "[[[7,[6,4]],[3,[1,3]]],[[[5,5],1],9]]\n",
    "[[6,[[7,3],[3,2]]],[[[3,8],[5,7]],4]]\n",
    "[[[[5,4],[7,7]],8],[[8,3],8]]\n",
    "[[9,3],[[9,9],[6,[4,9]]]]\n",
    "[[2,[[7,7],7]],[[5,8],[[9,3],[0,2]]]]\n",
    "[[[[5,2],5],[8,[3,7]]],[[5,[7,5]],[4,4]]]\"\"\"\n",
    "text = open(\"/home/hvn/me/adventofcode/2021/src/input18\").read()\n",
    "\n",
    "ns = [eval(i) for i in text.splitlines()]\n",
    "\n",
    "# ns = [[[2,[[7,7],7]],[[5,8],[[9,3],[0,2]]]],\n",
    "#            [[[0,[5,8]],[[1,7],[9,6]]],[[4,[1,2]],[[1,4],2]]]]\n",
    "#print(\"NUMBERS\", ns)\n",
    "\n",
    "#numbers = [[[[[4,3],4],4],[7,[[8,4],9]]],[1,1]]\n",
    "sums = []\n",
    "for l1 in ns:\n",
    "    for l2 in ns:\n",
    "        if l1 == l2: \n",
    "            continue\n",
    "        lists = [l1, l2]\n",
    "        lists = copy.deepcopy(lists)\n",
    "        prev = copy.deepcopy(lists)\n",
    "\n",
    "        while True:\n",
    "            changed = False\n",
    "            add_to_next = None\n",
    "            is_first_pair = True\n",
    "            prev = copy.deepcopy(lists)\n",
    "\n",
    "            explode(lists, None)\n",
    "            if prev != lists:\n",
    "                changed = True\n",
    "                continue\n",
    "\n",
    "            prev = copy.deepcopy(lists)\n",
    "\n",
    "            first_number = True\n",
    "            split(lists, None)\n",
    "            if prev != lists:\n",
    "                changed = True\n",
    "                continue\n",
    "\n",
    "            if changed is False:\n",
    "                break\n",
    "        m = manitude(lists)\n",
    "        sums.append(m)\n",
    "\n",
    "    \n",
    "print(\"Result\", max(sums))"
   ]
  }
 ],
 "metadata": {
  "kernelspec": {
   "display_name": "Python 3 (ipykernel)",
   "language": "python",
   "name": "python3"
  },
  "language_info": {
   "codemirror_mode": {
    "name": "ipython",
    "version": 3
   },
   "file_extension": ".py",
   "mimetype": "text/x-python",
   "name": "python",
   "nbconvert_exporter": "python",
   "pygments_lexer": "ipython3",
   "version": "3.8.10"
  }
 },
 "nbformat": 4,
 "nbformat_minor": 5
}
